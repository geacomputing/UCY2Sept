{
  "cells": [
    {
      "cell_type": "markdown",
      "source": [
        "# Test"
      ],
      "metadata": {
        "id": "CQx23-W1UZ6H"
      }
    },
    {
      "cell_type": "code",
      "source": [
        "# 🧪 Python Variable Types Exercise\n",
        "\n",
        "# 1. INTEGER\n",
        "a = 5\n",
        "print(\"Integer a =\", a, \"Type:\", type(a))\n",
        "\n",
        "# 2. FLOAT\n",
        "b = 3.14\n",
        "print(\"Float b =\", b, \"Type:\", type(b))\n",
        "\n",
        "# 3. STRING\n",
        "name = \"Earth\"\n",
        "print(\"String name =\", name, \"Type:\", type(name))\n",
        "\n",
        "# 4. BOOLEAN\n",
        "is_raining = False\n",
        "print(\"Boolean is_raining =\", is_raining, \"Type:\", type(is_raining))\n",
        "\n",
        "# 5. LIST\n",
        "temperatures = [20, 22, 25, 21]\n",
        "print(\"List temperatures =\", temperatures, \"Type:\", type(temperatures))\n",
        "\n",
        "# 6. TUPLE (immutable list)\n",
        "coordinates = (34.5, 32.0)\n",
        "print(\"Tuple coordinates =\", coordinates, \"Type:\", type(coordinates))\n",
        "\n",
        "# 7. DICTIONARY (key-value pairs)\n",
        "weather = {\"city\": \"Nicosia\", \"temperature\": 34, \"condition\": \"sunny\"}\n",
        "print(\"Dictionary weather =\", weather, \"Type:\", type(weather))\n",
        "\n",
        "# 8. NUMPY ARRAY (for scientific computing)\n",
        "import numpy as np\n",
        "arr = np.array([1, 2, 3, 4, 5])\n",
        "print(\"Numpy Array arr =\", arr, \"Type:\", type(arr))\n",
        "\n"
      ],
      "metadata": {
        "id": "xKHpyC-EUcQm"
      },
      "execution_count": null,
      "outputs": []
    },
    {
      "cell_type": "markdown",
      "source": [
        "# Logical Operators"
      ],
      "metadata": {
        "id": "fXw0Yry4VxKv"
      }
    },
    {
      "cell_type": "markdown",
      "source": [
        "Logical operators"
      ],
      "metadata": {
        "id": "gBnrmlnHVtu3"
      }
    },
    {
      "cell_type": "code",
      "source": [
        "# 🧪 Python Basics: Types, Logic, Conditionals, and Loops\n",
        "\n",
        "print(\"=== VARIABLE TYPES ===\")\n",
        "a = 10                             # Integer\n",
        "b = 3.14                           # Float\n",
        "name = \"Cyprus\"                    # String\n",
        "is_sunny = True                    # Boolean\n",
        "temps = [28, 30, 33]               # List\n",
        "coords = (35.1, 33.3)              # Tuple\n",
        "weather = {                        # Dictionary\n",
        "    \"city\": \"Nicosia\",\n",
        "    \"temp\": 34,\n",
        "    \"condition\": \"sunny\"\n",
        "}\n",
        "\n",
        "print(f\"a = {a} ({type(a)})\")\n",
        "print(f\"b = {b} ({type(b)})\")\n",
        "print(f\"name = {name} ({type(name)})\")\n",
        "print(f\"is_sunny = {is_sunny} ({type(is_sunny)})\")\n",
        "print(f\"temps = {temps} ({type(temps)})\")\n",
        "print(f\"coords = {coords} ({type(coords)})\")\n",
        "print(f\"weather = {weather} ({type(weather)})\")\n",
        "\n",
        "print(\"\\n=== LOGICAL OPERATORS ===\")\n",
        "print(\"Is temp > 30? →\", weather[\"temp\"] > 30)               # True\n",
        "print(\"Is it not sunny? →\", not is_sunny)                    # False\n",
        "print(\"Is temp between 25 and 35? →\", 25 < weather[\"temp\"] < 35)  # True\n",
        "\n",
        "print(\"\\n=== IF STATEMENT ===\")\n",
        "if weather[\"temp\"] > 35:\n",
        "    print(\"🥵 Very hot today!\")\n",
        "elif weather[\"temp\"] > 30:\n",
        "    print(\"😎 Nice summer day!\")\n",
        "else:\n",
        "    print(\"🌤️ Pleasant weather.\")\n",
        "\n",
        "print(\"\\n=== WHILE LOOP ===\")\n",
        "counter = 0\n",
        "while counter < 3:\n",
        "    print(\"Counter is:\", counter)\n",
        "    counter += 1\n",
        "\n",
        "print(\"\\n=== FOR LOOP ===\")\n",
        "for t in temps:\n",
        "    if t > 31:\n",
        "        print(f\"{t}°C → 🔥 hot!\")\n",
        "    else:\n",
        "        print(f\"{t}°C → ☁️ moderate\")\n",
        "\n",
        "print(\"\\n=== BONUS: Using range() and powers ===\")\n",
        "for i in range(1, 6):\n",
        "    print(f\"{i}² = {i**2}\")\n",
        "\n",
        "print(\"\\n=== EVEN OR ODD from 0 to 10 ===\")\n",
        "for number in range(0, 11):\n",
        "    if number % 2 == 0:\n",
        "        print(f\"{number} is EVEN\")\n",
        "    else:\n",
        "        print(f\"{number} is ODD\")\n"
      ],
      "metadata": {
        "id": "kQEDHy8NVv78",
        "outputId": "bd08d220-732c-48d7-b839-158e80c3728a",
        "colab": {
          "base_uri": "https://localhost:8080/"
        }
      },
      "execution_count": 10,
      "outputs": [
        {
          "output_type": "stream",
          "name": "stdout",
          "text": [
            "a = 10 (<class 'int'>)\n",
            "b = 3.14 (<class 'float'>)\n",
            "name = Cyprus (<class 'str'>)\n",
            "is_sunny = True (<class 'bool'>)\n",
            "temps = [28, 30, 33] (<class 'list'>)\n",
            "coords = (35.1, 33.3) (<class 'tuple'>)\n",
            "weather = {'city': 'Nicosia', 'temp': 34, 'condition': 'sunny'} (<class 'dict'>)\n",
            "Is temp > 30? → True\n",
            "Is it not sunny? → False\n",
            "Is temp between 25 and 35? → True\n",
            "😎 Nice summer day!\n",
            "Counter is: 0\n",
            "Counter is: 1\n",
            "Counter is: 2\n",
            "28°C → ☁️ moderate\n",
            "30°C → ☁️ moderate\n",
            "33°C → 🔥 hot!\n",
            "1² = 1\n",
            "2² = 4\n",
            "3² = 9\n",
            "4² = 16\n",
            "5² = 25\n",
            "0 is EVEN\n",
            "1 is ODD\n",
            "2 is EVEN\n",
            "3 is ODD\n",
            "4 is EVEN\n",
            "5 is ODD\n",
            "6 is EVEN\n",
            "7 is ODD\n",
            "8 is EVEN\n",
            "9 is ODD\n",
            "10 is EVEN\n"
          ]
        }
      ]
    }
  ],
  "metadata": {
    "colab": {
      "name": "Overview of Colaboratory Features",
      "toc_visible": true,
      "provenance": []
    },
    "kernelspec": {
      "display_name": "Python 3",
      "name": "python3"
    }
  },
  "nbformat": 4,
  "nbformat_minor": 0
}