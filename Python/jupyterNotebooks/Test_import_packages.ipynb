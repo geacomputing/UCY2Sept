{
  "nbformat": 4,
  "nbformat_minor": 0,
  "metadata": {
    "colab": {
      "provenance": []
    },
    "kernelspec": {
      "name": "python3",
      "display_name": "Python 3"
    },
    "language_info": {
      "name": "python"
    }
  },
  "cells": [
    {
      "cell_type": "code",
      "source": [
        "packages = [\n",
        "    \"xarray\",\n",
        "    \"netCDF4\",\n",
        "    \"cartopy\",\n",
        "    \"matplotlib\",\n",
        "    \"pandas\"\n",
        "]\n",
        "\n",
        "maxlen = max(len(pkg) for pkg in packages)\n",
        "\n",
        "for pkg in packages:\n",
        "    try:\n",
        "        module = __import__(pkg)\n",
        "        version = getattr(module, '__version__', 'Version not found')\n",
        "        print(f\"✅ Successfully imported: {pkg:<{maxlen}}   (version: {version})\")\n",
        "    except ImportError:\n",
        "        print(f\"❌ Failed to import     : {pkg:<{maxlen}}\")\n",
        "    except Exception as e:\n",
        "        print(f\"⚠️  Error importing      : {pkg:<{maxlen}}   ({e})\")\n"
      ],
      "metadata": {
        "colab": {
          "base_uri": "https://localhost:8080/"
        },
        "id": "Rk8Eyzlu88Ze",
        "outputId": "3943e770-3f60-4097-ea5b-2ed59ea22a8e"
      },
      "execution_count": 3,
      "outputs": [
        {
          "output_type": "stream",
          "name": "stdout",
          "text": [
            "✅ Successfully imported: xarray       (version: 2025.7.1)\n",
            "✅ Successfully imported: netCDF4      (version: 1.7.2)\n",
            "✅ Successfully imported: cartopy      (version: 0.25.0)\n",
            "✅ Successfully imported: matplotlib   (version: 3.10.0)\n",
            "✅ Successfully imported: pandas       (version: 2.2.2)\n"
          ]
        }
      ]
    }
  ]
}