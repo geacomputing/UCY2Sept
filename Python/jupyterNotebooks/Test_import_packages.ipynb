{
  "nbformat": 4,
  "nbformat_minor": 0,
  "metadata": {
    "colab": {
      "provenance": []
    },
    "kernelspec": {
      "name": "python3",
      "display_name": "Python 3"
    },
    "language_info": {
      "name": "python"
    }
  },
  "cells": [
    {
      "cell_type": "code",
      "source": [
        "# ------------------------------------------------------------------------------\n",
        "# EMS GEA Computing LTD\n",
        "# Through numbers, the Earth.\n",
        "\n",
        "# office@geacomputing.eu\n",
        "# https://www.gea-computing.eu\n",
        "# https://www.instagram.com/ems_gea_computing/\n",
        "\n",
        "# BANK NAME: HELLENIC BANK\n",
        "# IBAN: CY750050015100015101H3671101\n",
        "# SWIFT: HEBACY2N\n",
        "# HOLDER: EMS GEA COMPUTING LTD\n",
        "# Registered in Cyprus with number HE456780\n",
        "# ------------------------------------------------------------------------------\n",
        "\n",
        "# Purpose:\n",
        "# This script attempts to import a list of required Python packages.\n",
        "# For each package, it:\n",
        "# - Confirms whether the import succeeded.\n",
        "# - Displays the version (if available).\n",
        "# - Catches and reports any import errors.\n",
        "# If any import fails, a reminder message is printed at the end.\n",
        "\n",
        "# List of packages to check\n",
        "packages = [\n",
        "    \"xarray\",\n",
        "    \"netCDF4\",\n",
        "    \"cartopy\",\n",
        "    \"matplotlib\",\n",
        "    \"pandas\"\n",
        "]\n",
        "\n",
        "# Compute the maximum length of package names, for aligned printing\n",
        "maxlen = max(len(pkg) for pkg in packages)\n",
        "\n",
        "# Track whether any import has failed\n",
        "import_failed = False\n",
        "\n",
        "# Attempt to import each package\n",
        "for pkg in packages:\n",
        "    try:\n",
        "        module = __import__(pkg)\n",
        "        version = getattr(module, '__version__', 'Version not found')\n",
        "        print(f\"Successfully imported   : {pkg:<{maxlen}}   (version: {version})\")\n",
        "    except ImportError:\n",
        "        print(f\"Failed to import        : {pkg:<{maxlen}}\")\n",
        "        import_failed = True\n",
        "    except Exception as e:\n",
        "        print(f\"Error importing         : {pkg:<{maxlen}}   ({e})\")\n",
        "        import_failed = True\n",
        "\n",
        "# Final warning if anything failed\n",
        "if import_failed:\n",
        "    print(\"\\nWARNING:\")\n",
        "    print(\"At least one package failed to import.\")\n",
        "    print('Have you installed all required packages using: \"! pip install -r requirements.txt\" ?')\n",
        "    print('Note the \"!\" sign — it is needed when running from Jupyter or Colab notebooks.')\n"
      ],
      "metadata": {
        "colab": {
          "base_uri": "https://localhost:8080/"
        },
        "id": "Rk8Eyzlu88Ze",
        "outputId": "3943e770-3f60-4097-ea5b-2ed59ea22a8e"
      },
      "execution_count": 3,
      "outputs": [
        {
          "output_type": "stream",
          "name": "stdout",
          "text": [
            "✅ Successfully imported: xarray       (version: 2025.7.1)\n",
            "✅ Successfully imported: netCDF4      (version: 1.7.2)\n",
            "✅ Successfully imported: cartopy      (version: 0.25.0)\n",
            "✅ Successfully imported: matplotlib   (version: 3.10.0)\n",
            "✅ Successfully imported: pandas       (version: 2.2.2)\n"
          ]
        }
      ]
    }
  ]
}