{
  "cells": [
    {
      "cell_type": "markdown",
      "id": "30c68d1d",
      "metadata": {
        "id": "30c68d1d"
      },
      "source": [
        "[![Open In Colab](https://colab.research.google.com/assets/colab-badge.svg)](https://colab.research.google.com/github/geacomputing/UCY2Sept/blob/main/Python/jupyterNotebooks/start_here.ipynb)"
      ]
    },
    {
      "cell_type": "markdown",
      "id": "468bb77c",
      "metadata": {
        "id": "468bb77c"
      },
      "source": [
        "# 🛰️ UCY2Sept: Getting Started on Colab\n",
        "\n",
        "Welcome to the **UCY2Sept** project running on Google Colab.\n",
        "\n",
        "This notebook will:\n",
        "- Clone the entire GitHub repository\n",
        "- Set up the environment\n",
        "- Provide quick links and tips to navigate the repo\n"
      ]
    },
    {
      "cell_type": "code",
      "source": [
        "import sys\n",
        "import os\n",
        "\n",
        "\n",
        "# Python version\n",
        "print(f\"Python version: {sys.version}\")\n",
        "\n",
        "\n"
      ],
      "metadata": {
        "colab": {
          "base_uri": "https://localhost:8080/"
        },
        "id": "rkPkfzPYgBML",
        "outputId": "d087ffeb-456b-4e23-a2da-e22ba66fc8cc"
      },
      "id": "rkPkfzPYgBML",
      "execution_count": 1,
      "outputs": [
        {
          "output_type": "stream",
          "name": "stdout",
          "text": [
            "Python version: 3.11.13 (main, Jun  4 2025, 08:57:29) [GCC 11.4.0]\n"
          ]
        }
      ]
    },
    {
      "cell_type": "markdown",
      "id": "45c77118",
      "metadata": {
        "id": "45c77118"
      },
      "source": [
        "## 🔁 Step 1: Clone the Repository"
      ]
    },
    {
      "cell_type": "code",
      "execution_count": 2,
      "id": "44f71ef4",
      "metadata": {
        "colab": {
          "base_uri": "https://localhost:8080/"
        },
        "id": "44f71ef4",
        "outputId": "686083a9-3e3c-4f74-9f69-7a14f6a25109"
      },
      "outputs": [
        {
          "output_type": "stream",
          "name": "stdout",
          "text": [
            "Cloning into 'UCY2Sept'...\n",
            "remote: Enumerating objects: 79, done.\u001b[K\n",
            "remote: Counting objects: 100% (79/79), done.\u001b[K\n",
            "remote: Compressing objects: 100% (62/62), done.\u001b[K\n",
            "remote: Total 79 (delta 17), reused 9 (delta 1), pack-reused 0 (from 0)\u001b[K\n",
            "Receiving objects: 100% (79/79), 18.36 KiB | 9.18 MiB/s, done.\n",
            "Resolving deltas: 100% (17/17), done.\n",
            "/content/UCY2Sept\n",
            "You are now in the right folder\n",
            "\n",
            "\n",
            "\n",
            "\n",
            "Folder Content:\n",
            "------------------------------\n",
            "LICENSE  Python  README.md  requirements.txt\n"
          ]
        }
      ],
      "source": [
        "# Remove default sample_data folder if it exists\n",
        "!rm -rf /content/sample_data\n",
        "\n",
        "# Clone the GitHub repo (replace with your fork if needed)\n",
        "!git clone https://github.com/geacomputing/UCY2Sept.git\n",
        "\n",
        "# Move into the project folder\n",
        "%cd UCY2Sept\n",
        "\n",
        "print(\"You are now in the right folder\")\n",
        "\n",
        "print(3*\"\\n\")\n",
        "print(\"Folder Content:\")\n",
        "print(30*\"-\")\n",
        "# Optional: check folder structure\n",
        "!ls\n"
      ]
    },
    {
      "cell_type": "markdown",
      "id": "a3b06353",
      "metadata": {
        "id": "a3b06353"
      },
      "source": [
        "## 🛠️ Step 2: Add repo to Python path"
      ]
    },
    {
      "cell_type": "code",
      "execution_count": 3,
      "id": "3cb623d6",
      "metadata": {
        "colab": {
          "base_uri": "https://localhost:8080/"
        },
        "id": "3cb623d6",
        "outputId": "78752794-db93-4d0b-cd7b-e01352f5c703"
      },
      "outputs": [
        {
          "output_type": "stream",
          "name": "stdout",
          "text": [
            "Repository added to Python path.\n"
          ]
        }
      ],
      "source": [
        "\n",
        "\n",
        "# Add current repo to Python path\n",
        "repo_path = os.getcwd()\n",
        "if repo_path not in sys.path:\n",
        "    sys.path.append(repo_path)\n",
        "\n",
        "print(\"Repository added to Python path.\")\n"
      ]
    },
    {
      "cell_type": "code",
      "source": [
        "# Install packages from requirements.txt (needed for this session)\n",
        "! pip install -r requirements.txt"
      ],
      "metadata": {
        "colab": {
          "base_uri": "https://localhost:8080/"
        },
        "id": "AO6H1vLAdamQ",
        "outputId": "6171453f-313a-4a24-d9c6-d40e62acf741"
      },
      "id": "AO6H1vLAdamQ",
      "execution_count": 5,
      "outputs": [
        {
          "output_type": "stream",
          "name": "stdout",
          "text": [
            "Requirement already satisfied: xarray in /usr/local/lib/python3.11/dist-packages (from -r requirements.txt (line 1)) (2025.7.1)\n",
            "Collecting netCDF4 (from -r requirements.txt (line 2))\n",
            "  Downloading netCDF4-1.7.2-cp311-cp311-manylinux_2_17_x86_64.manylinux2014_x86_64.whl.metadata (1.8 kB)\n",
            "Collecting cartopy (from -r requirements.txt (line 3))\n",
            "  Downloading cartopy-0.25.0-cp311-cp311-manylinux_2_24_x86_64.manylinux_2_28_x86_64.whl.metadata (6.1 kB)\n",
            "Requirement already satisfied: matplotlib in /usr/local/lib/python3.11/dist-packages (from -r requirements.txt (line 4)) (3.10.0)\n",
            "Requirement already satisfied: pandas in /usr/local/lib/python3.11/dist-packages (from -r requirements.txt (line 5)) (2.2.2)\n",
            "Requirement already satisfied: numpy>=1.26 in /usr/local/lib/python3.11/dist-packages (from xarray->-r requirements.txt (line 1)) (2.0.2)\n",
            "Requirement already satisfied: packaging>=24.1 in /usr/local/lib/python3.11/dist-packages (from xarray->-r requirements.txt (line 1)) (25.0)\n",
            "Collecting cftime (from netCDF4->-r requirements.txt (line 2))\n",
            "  Downloading cftime-1.6.4.post1-cp311-cp311-manylinux_2_17_x86_64.manylinux2014_x86_64.whl.metadata (8.7 kB)\n",
            "Requirement already satisfied: certifi in /usr/local/lib/python3.11/dist-packages (from netCDF4->-r requirements.txt (line 2)) (2025.7.14)\n",
            "Requirement already satisfied: shapely>=2.0 in /usr/local/lib/python3.11/dist-packages (from cartopy->-r requirements.txt (line 3)) (2.1.1)\n",
            "Requirement already satisfied: pyshp>=2.3 in /usr/local/lib/python3.11/dist-packages (from cartopy->-r requirements.txt (line 3)) (2.3.1)\n",
            "Requirement already satisfied: pyproj>=3.3.1 in /usr/local/lib/python3.11/dist-packages (from cartopy->-r requirements.txt (line 3)) (3.7.1)\n",
            "Requirement already satisfied: contourpy>=1.0.1 in /usr/local/lib/python3.11/dist-packages (from matplotlib->-r requirements.txt (line 4)) (1.3.2)\n",
            "Requirement already satisfied: cycler>=0.10 in /usr/local/lib/python3.11/dist-packages (from matplotlib->-r requirements.txt (line 4)) (0.12.1)\n",
            "Requirement already satisfied: fonttools>=4.22.0 in /usr/local/lib/python3.11/dist-packages (from matplotlib->-r requirements.txt (line 4)) (4.59.0)\n",
            "Requirement already satisfied: kiwisolver>=1.3.1 in /usr/local/lib/python3.11/dist-packages (from matplotlib->-r requirements.txt (line 4)) (1.4.8)\n",
            "Requirement already satisfied: pillow>=8 in /usr/local/lib/python3.11/dist-packages (from matplotlib->-r requirements.txt (line 4)) (11.3.0)\n",
            "Requirement already satisfied: pyparsing>=2.3.1 in /usr/local/lib/python3.11/dist-packages (from matplotlib->-r requirements.txt (line 4)) (3.2.3)\n",
            "Requirement already satisfied: python-dateutil>=2.7 in /usr/local/lib/python3.11/dist-packages (from matplotlib->-r requirements.txt (line 4)) (2.9.0.post0)\n",
            "Requirement already satisfied: pytz>=2020.1 in /usr/local/lib/python3.11/dist-packages (from pandas->-r requirements.txt (line 5)) (2025.2)\n",
            "Requirement already satisfied: tzdata>=2022.7 in /usr/local/lib/python3.11/dist-packages (from pandas->-r requirements.txt (line 5)) (2025.2)\n",
            "Requirement already satisfied: six>=1.5 in /usr/local/lib/python3.11/dist-packages (from python-dateutil>=2.7->matplotlib->-r requirements.txt (line 4)) (1.17.0)\n",
            "Downloading netCDF4-1.7.2-cp311-cp311-manylinux_2_17_x86_64.manylinux2014_x86_64.whl (9.3 MB)\n",
            "\u001b[2K   \u001b[90m━━━━━━━━━━━━━━━━━━━━━━━━━━━━━━━━━━━━━━━━\u001b[0m \u001b[32m9.3/9.3 MB\u001b[0m \u001b[31m57.7 MB/s\u001b[0m eta \u001b[36m0:00:00\u001b[0m\n",
            "\u001b[?25hDownloading cartopy-0.25.0-cp311-cp311-manylinux_2_24_x86_64.manylinux_2_28_x86_64.whl (11.8 MB)\n",
            "\u001b[2K   \u001b[90m━━━━━━━━━━━━━━━━━━━━━━━━━━━━━━━━━━━━━━━━\u001b[0m \u001b[32m11.8/11.8 MB\u001b[0m \u001b[31m99.2 MB/s\u001b[0m eta \u001b[36m0:00:00\u001b[0m\n",
            "\u001b[?25hDownloading cftime-1.6.4.post1-cp311-cp311-manylinux_2_17_x86_64.manylinux2014_x86_64.whl (1.4 MB)\n",
            "\u001b[2K   \u001b[90m━━━━━━━━━━━━━━━━━━━━━━━━━━━━━━━━━━━━━━━━\u001b[0m \u001b[32m1.4/1.4 MB\u001b[0m \u001b[31m62.0 MB/s\u001b[0m eta \u001b[36m0:00:00\u001b[0m\n",
            "\u001b[?25hInstalling collected packages: cftime, netCDF4, cartopy\n",
            "Successfully installed cartopy-0.25.0 cftime-1.6.4.post1 netCDF4-1.7.2\n"
          ]
        }
      ]
    },
    {
      "cell_type": "code",
      "source": [
        "# List of packages to check\n",
        "packages = [\n",
        "    \"xarray\",\n",
        "    \"netCDF4\",\n",
        "    \"cartopy\",\n",
        "    \"matplotlib\",\n",
        "    \"pandas\"\n",
        "]\n",
        "\n",
        "# Compute the maximum length of package names, for aligned printing\n",
        "maxlen = max(len(pkg) for pkg in packages)\n",
        "\n",
        "# Track whether any import has failed\n",
        "import_failed = False\n",
        "\n",
        "\n",
        "print(\"\\n👉 Testing installation of required packages\\n\")\n",
        "\n",
        "# Attempt to import each package\n",
        "for pkg in packages:\n",
        "    try:\n",
        "        module = __import__(pkg)\n",
        "        version = getattr(module, '__version__', 'Version not found')\n",
        "        print(f\"✔️Successfully imported   : {pkg:<{maxlen}}   (version: {version})\")\n",
        "    except ImportError:\n",
        "        print(f\"❌ Failed to import        : {pkg:<{maxlen}}\")\n",
        "        import_failed = True\n",
        "    except Exception as e:\n",
        "        print(f\"❌ Error importing         : {pkg:<{maxlen}}   ({e})\")\n",
        "        import_failed = True\n",
        "\n",
        "# Final warning if anything failed\n",
        "if import_failed:\n",
        "    print(\"\\n[+] WARNING:\")\n",
        "    print(\"\\tAt least one package failed to import.\")\n",
        "    print('\\tHave you installed all required packages using: \"! pip install -r requirements.txt\" ?')\n",
        "    print('\\tNote the \"!\" sign — it is needed when running from Jupyter or Colab notebooks.')\n",
        "else:\n",
        "  print(\"\\n🛠️ INFO:\")\n",
        "  print(\"\\tGITHUB material and scripts downloaded.Packages installed correctly.\\n\\n✅ You are good to go.\")"
      ],
      "metadata": {
        "colab": {
          "base_uri": "https://localhost:8080/"
        },
        "id": "hGBpZ2tTdp9k",
        "outputId": "e98f518f-f955-4231-969b-86a92d89c7f4"
      },
      "id": "hGBpZ2tTdp9k",
      "execution_count": 6,
      "outputs": [
        {
          "output_type": "stream",
          "name": "stdout",
          "text": [
            "\n",
            "👉 Testing installation of required packages\n",
            "\n",
            "✔️Successfully imported   : xarray       (version: 2025.7.1)\n",
            "✔️Successfully imported   : netCDF4      (version: 1.7.2)\n",
            "✔️Successfully imported   : cartopy      (version: 0.25.0)\n",
            "✔️Successfully imported   : matplotlib   (version: 3.10.0)\n",
            "✔️Successfully imported   : pandas       (version: 2.2.2)\n",
            "\n",
            "🛠️ INFO:\n",
            "\tGITHUB material and scripts downloaded.Packages installed correctly.\n",
            "\n",
            "✅ You are good to go.\n"
          ]
        }
      ]
    }
  ],
  "metadata": {
    "colab": {
      "provenance": []
    },
    "language_info": {
      "name": "python"
    },
    "kernelspec": {
      "name": "python3",
      "display_name": "Python 3"
    }
  },
  "nbformat": 4,
  "nbformat_minor": 5
}
