{
  "cells": [
    {
      "cell_type": "markdown",
      "source": [
        "# ------------------------------------------------------------------------------\n",
        "# EMS GEA Computing LTD\n",
        "# Through numbers, the Earth.\n",
        "\n",
        "# office@geacomputing.eu\n",
        "# https://www.gea-computing.eu\n",
        "# https://www.instagram.com/ems_gea_computing/"
      ]
    },
    {
      "cell_type": "markdown",
      "source": [
        "[![Open In Colab](https://colab.research.google.com/assets/colab-badge.svg)](https://colab.research.google.com/github/geacomputing/UCY2Sept/blob/main/Python/jupyterNotebooks/start_here.ipynb)"
      ]
    },
    {
      "cell_type": "markdown",
      "source": [
        "# 🛰️ UCY2Sept: Getting Started on Colab\n",
        "\n",
        "Welcome to the **UCY2Sept** project running on Google Colab.\n",
        "\n",
        "This notebook will guide you through the first steps:\n",
        "- Cloning the GitHub repository\n",
        "- Setting up the environment with required packages\n",
        "- Adding the repository folder to the Python path for module imports\n",
        "- Verifying installation of key Python packages\n"
      ]
    },
    {
      "cell_type": "code",
      "source": [
        "# Import system libraries to gather environment info\n",
        "import sys\n",
        "import os\n",
        "\n",
        "# Display current Python version\n",
        "print(f\"Python version: {sys.version}\")"
      ]
    },
    {
      "cell_type": "markdown",
      "source": [
        "## 🔁 Step 1: Clone the Repository\n",
        "\n",
        "First, we clean the environment by removing the default `sample_data` folder that Colab creates.\n",
        "Then, we clone the **UCY2Sept** GitHub repository.\n",
        "After cloning, we navigate into the project directory and list its contents to verify the clone."
      ]
    },
    {
      "cell_type": "code",
      "source": [
        "# Remove default sample_data folder if it exists\n",
        "!rm -rf /content/sample_data\n",
        "\n",
        "# Clone the GitHub repo (replace with your fork if needed)\n",
        "!git clone https://github.com/geacomputing/UCY2Sept.git\n",
        "\n",
        "# Move into the project folder\n",
        "%cd UCY2Sept\n",
        "\n",
        "print(\"You are now in the right folder\")\n",
        "\n",
        "print('\\n' * 3)\n",
        "print(\"Folder Content:\")\n",
        "print(\"-\" * 30)\n",
        "\n",
        "# List the folder contents to verify\n",
        "!ls"
      ]
    },
    {
      "cell_type": "markdown",
      "source": [
        "## 🛠️ Step 2: Add Repository to Python Path\n",
        "\n",
        "To be able to import Python modules directly from the cloned repo,\n",
        "we add the current working directory (the repo root) to the `sys.path` list."
      ]
    },
    {
      "cell_type": "code",
      "source": [
        "# Add current repo to Python path for imports\n",
        "repo_path = os.getcwd()\n",
        "if repo_path not in sys.path:\n",
        "    sys.path.append(repo_path)\n",
        "\n",
        "print(\"Repository added to Python path.\")"
      ]
    },
    {
      "cell_type": "markdown",
      "source": [
        "## 📦 Step 3: Install Required Packages\n",
        "\n",
        "Install all Python packages listed in the `requirements.txt` file.\n",
        "This is necessary to ensure all dependencies are available in your Colab session."
      ]
    },
    {
      "cell_type": "code",
      "source": [
        "# Install packages from requirements.txt (needed for this session)\n",
        "!pip install -r requirements.txt"
      ]
    },
    {
      "cell_type": "markdown",
      "source": [
        "## ✅ Step 4: Verify Package Installations\n",
        "\n",
        "Try importing all required packages and report their versions.\n",
        "This will help you ensure that all dependencies are correctly installed."
      ]
    },
    {
      "cell_type": "code",
      "source": [
        "# List of packages to check\n",
        "packages = [\n",
        "    \"xarray\",\n",
        "    \"netCDF4\",\n",
        "    \"cartopy\",\n",
        "    \"matplotlib\",\n",
        "    \"pandas\"\n",
        "]\n",
        "\n",
        "# Compute the maximum length of package names, for aligned printing\n",
        "maxlen = max(len(pkg) for pkg in packages)\n",
        "\n",
        "# Track whether any import has failed\n",
        "import_failed = False\n",
        "\n",
        "print(\"\\n👉 Testing installation of required packages\\n\")\n",
        "\n",
        "# Attempt to import each package\n",
        "for pkg in packages:\n",
        "    try:\n",
        "        module = __import__(pkg)\n",
        "        version = getattr(module, '__version__', 'Version not found')\n",
        "        print(f\"✔️Successfully imported   : {pkg:<{maxlen}}   (version: {version})\")\n",
        "    except ImportError:\n",
        "        print(f\"❌ Failed to import        : {pkg:<{maxlen}}\")\n",
        "        import_failed = True\n",
        "    except Exception as e:\n",
        "        print(f\"❌ Error importing         : {pkg:<{maxlen}}   ({e})\")\n",
        "        import_failed = True\n",
        "\n",
        "# Final warning if anything failed\n",
        "if import_failed:\n",
        "    print(\"\\n[+] WARNING:\")\n",
        "    print(\"\\tAt least one package failed to import.\")\n",
        "    print('\\tHave you installed all required packages using: \"! pip install -r requirements.txt\" ?')\n",
        "    print('\\tNote the \"!\" sign — it is needed when running from Jupyter or Colab notebooks.')\n",
        "else:\n",
        "    print(\"\\n🛠️ INFO:\")\n",
        "    print(\"\\tGITHUB material and scripts downloaded. Packages installed correctly.\")\n",
        "    print(\"\\n✅ You are good to go.\")"
      ]
    }
  ],
  "metadata": {
    "colab": {
      "provenance": []
    },
    "language_info": {
      "name": "python"
    },
    "kernelspec": {
      "name": "python3",
      "display_name": "Python 3"
    }
  },
  "nbformat": 4,
  "nbformat_minor": 5
}
