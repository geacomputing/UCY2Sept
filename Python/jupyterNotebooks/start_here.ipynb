{
 "cells": [
  {
   "cell_type": "markdown",
   "id": "30c68d1d",
   "metadata": {},
   "source": [
    "[![Open In Colab](https://colab.research.google.com/assets/colab-badge.svg)](https://colab.research.google.com/github/geacomputing/UCY2Sept/blob/main/start_here.ipynb)"
   ]
  },
  {
   "cell_type": "markdown",
   "id": "468bb77c",
   "metadata": {},
   "source": [
    "# 🛰️ UCY2Sept: Getting Started on Colab\n",
    "\n",
    "Welcome to the **UCY2Sept** project running on Google Colab.\n",
    "\n",
    "This notebook will:\n",
    "- Clone the entire GitHub repository\n",
    "- Set up the environment\n",
    "- Provide quick links and tips to navigate the repo\n"
   ]
  },
  {
   "cell_type": "markdown",
   "id": "45c77118",
   "metadata": {},
   "source": [
    "## 🔁 Step 1: Clone the Repository"
   ]
  },
  {
   "cell_type": "code",
   "execution_count": null,
   "id": "44f71ef4",
   "metadata": {},
   "outputs": [],
   "source": [
    "# Clone the GitHub repo (replace with your fork if needed)\n",
    "!git clone https://github.com/geacomputing/UCY2Sept.git\n",
    "\n",
    "# Move into the project folder\n",
    "%cd UCY2Sept\n",
    "\n",
    "# Optional: check folder structure\n",
    "!ls\n"
   ]
  },
  {
   "cell_type": "markdown",
   "id": "a3b06353",
   "metadata": {},
   "source": [
    "## 🛠️ Step 2: Add repo to Python path"
   ]
  },
  {
   "cell_type": "code",
   "execution_count": null,
   "id": "3cb623d6",
   "metadata": {},
   "outputs": [],
   "source": [
    "import sys\n",
    "import os\n",
    "\n",
    "# Add current repo to Python path\n",
    "repo_path = os.getcwd()\n",
    "if repo_path not in sys.path:\n",
    "    sys.path.append(repo_path)\n",
    "\n",
    "print(\"Repository added to Python path.\")\n"
   ]
  },
  {
   "cell_type": "code",
   "execution_count": null,
   "id": "a6438089",
   "metadata": {},
   "outputs": [],
   "source": [
    "# List available .ipynb files and folders\n",
    "!find . -name \"*.ipynb\"\n"
   ]
  }
 ],
 "metadata": {},
 "nbformat": 4,
 "nbformat_minor": 5
}
