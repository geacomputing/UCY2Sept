# 🛰️ UCY2Sept: Getting Started on Colab

Welcome to the **UCY2Sept** project running on Google Colab.

This notebook will:
- Clone the entire GitHub repository
- Set up the environment
- Provide quick links and tips to navigate the repo

---

## 🔁 Step 1: Clone the Repository


# Clone the GitHub repo (replace with your fork if needed)
!git clone https://github.com/geacomputing/UCY2Sept.git

# Move into the project folder
%cd UCY2Sept

# Optional: check folder structure
!ls



## 🛠️ Step 2: Add repo to Python path

This allows you to import your own modules (if any).




import sys
import os

# Add current repo to Python path
repo_path = os.getcwd()
if repo_path not in sys.path:
    sys.path.append(repo_path)

print("Repository added to Python path.")



# List available .ipynb files and folders
!find . -name "*.ipynb"
