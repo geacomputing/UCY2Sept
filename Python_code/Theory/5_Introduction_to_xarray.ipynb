{
 "cells": [
  {
   "cell_type": "markdown",
   "id": "032ae2c0-2f19-4e86-92ee-a03333a71d65",
   "metadata": {},
   "source": [
    "# Introduction to xarray: Why and How\n",
    "\n",
    "## Why use xarray?\n",
    "\n",
    "- **N-dimensional labeled arrays:** Unlike plain NumPy arrays, xarray supports labels (names) for dimensions, coordinates, and metadata.  \n",
    "- **Easy handling of multi-dimensional scientific data:** Perfect for datasets like climate model outputs, satellite data, and geospatial grids.  \n",
    "- **Powerful indexing and slicing:** Access data by coordinate labels instead of integer indices, making code more readable and less error-prone.  \n",
    "- **Integration with other libraries:** Works well with pandas, NumPy, matplotlib, and Dask for parallel computing.  \n",
    "- **Built-in support for NetCDF:** A common format for climate and oceanographic data.\n",
    "\n",
    "---\n",
    "\n",
    "## How does xarray work?\n",
    "\n",
    "- The core data structure is the **`xarray.DataArray`**, which holds multi-dimensional data with dimension names and coordinates.  \n",
    "- Larger collections of variables and coordinates are managed via **`xarray.Dataset`**, like a dict of DataArrays.  \n",
    "- Coordinates provide meaningful labels for axes (e.g., time, latitude, longitude).  \n",
    "- You can perform arithmetic, group operations, resampling, and more with labeled data.\n",
    "\n",
    "---\n"
   ]
  },
  {
   "cell_type": "code",
   "execution_count": null,
   "id": "65426b57-2f21-4f19-8fca-e5a48e741497",
   "metadata": {},
   "outputs": [],
   "source": [
    "# Install packages from requirements.txt (needed for this session)\n",
    "!pip numpy xarray matplotlib pooch"
   ]
  },
  {
   "cell_type": "markdown",
   "id": "5c4b5c40-670d-49e8-8d6e-6cef85b61a45",
   "metadata": {},
   "source": [
    "## Setup: use a tutorial Dataset\n",
    "\n"
   ]
  },
  {
   "cell_type": "code",
   "execution_count": null,
   "id": "070fc7b2-57bf-4938-8d98-42663c5898b2",
   "metadata": {},
   "outputs": [],
   "source": [
    "import numpy as np\n",
    "import pandas as pd\n",
    "import xarray as xr\n",
    "import matplotlib.pyplot as plt"
   ]
  },
  {
   "cell_type": "code",
   "execution_count": null,
   "id": "65185b87-74fb-4759-9b0d-864c6ccd401e",
   "metadata": {},
   "outputs": [],
   "source": [
    "ds = xr.tutorial.load_dataset(\"air_temperature\") #<----- dataset\n",
    "#ds = xr.tutorial.load_dataset(\"air_temperature\")['air'] #<----- dataARRAY - adding variable name\n",
    "print(ds)"
   ]
  },
  {
   "cell_type": "markdown",
   "id": "98797e31-f877-4fe7-8745-6ed48abc2a29",
   "metadata": {},
   "source": [
    "### Latitude Profile of Mean Temperature for June 2014\n",
    "\n",
    "1. **Select Time Range**  \n",
    "   - `ds.air.sel(time=\"2014/06\")` selects **all days in June 2014** from the dataset along the `time` dimension.  \n",
    "\n",
    "2. **Compute Mean**  \n",
    "   - `.mean([\"time\",\"lon\"])` calculates the **average over the time and longitude dimensions**:  \n",
    "     - **Time:** combines all days in June 2014.  \n",
    "     - **Longitude:** averages across the full east-west extent.  \n",
    "   - The result is a **1D array along latitude**, showing how temperature varies from south to north.\n",
    "\n",
    "3. **Plotting**  \n",
    "   - `.plot()` visualizes the latitude profile:  \n",
    "     - X-axis: Temperature (°C or K, depending on the dataset).  \n",
    "     - Y-axis: Latitude (degrees).  \n",
    "   - This provides a **meridional (north-south) temperature profile** for that month.\n",
    "\n",
    "4. **Interpretation**  \n",
    "   - The plot highlights **how temperature changes with latitude** during June 2014.  \n",
    "   - Peaks and valleys indicate warmer or cooler zones along the north-south axis.  \n",
    "   - This is a useful way to summarize **monthly climatology along a single spatial dimension**.\n"
   ]
  },
  {
   "cell_type": "code",
   "execution_count": null,
   "id": "b504be13-edd9-4e09-aaa9-a4b69bf5a207",
   "metadata": {},
   "outputs": [],
   "source": [
    "ds.air.sel(time=\"2014/06\").mean([\"time\",\"lon\"]).plot()"
   ]
  },
  {
   "cell_type": "markdown",
   "id": "6d572e54-5533-4791-958b-662f904cd731",
   "metadata": {},
   "source": [
    "### Monthly Mean Temperature for January\n",
    "\n",
    "1. **Group by Month**  \n",
    "   - `ds.air.groupby(\"time.month\")` groups the air temperature data along the `time` dimension by calendar month (1–12).  \n",
    "\n",
    "2. **Compute Mean**  \n",
    "   - `.mean()` calculates the average temperature for each month across all years and all days within that month.  \n",
    "   - This produces a new DataArray with a `\"month\"` coordinate instead of `\"time\"`.  \n",
    "\n",
    "3. **Select January**  \n",
    "   - `.sel(month=1)` extracts the data corresponding to **January**.  \n",
    "\n",
    "4. **Plotting**  \n",
    "   - `.plot(cmap='seismic', robust=True)` displays the January temperature spatially:  \n",
    "     - `cmap='seismic'` uses a red-to-blue diverging color map (cool vs. warm).  \n",
    "     - `robust=True` ensures that the color scale is not skewed by extreme outliers.  \n",
    "\n",
    "5. **Interpretation**  \n",
    "   - This map shows the **spatial distribution of mean January temperatures** across the dataset’s latitude-longitude grid.  \n",
    "   - Useful for quickly identifying cold and warm regions in a specific month.  \n",
    "   - You can repeat for other months by changing `.sel(month=2)` for February, `.sel(month=3)` for March, etc.\n"
   ]
  },
  {
   "cell_type": "code",
   "execution_count": null,
   "id": "db84c08f-3afa-4523-9ce1-820d6f4ce1b4",
   "metadata": {},
   "outputs": [],
   "source": [
    "ds.air.groupby(\"time.month\").mean().sel(month=1).plot(cmap='seismic', robust=True)\n"
   ]
  },
  {
   "cell_type": "markdown",
   "id": "d859f834-62b6-4c12-98a4-fd2a8e1a3296",
   "metadata": {},
   "source": [
    "### Filtering and Visualizing Temperature with Multiple Conditions\n",
    "\n",
    "1. **Define Conditions**  \n",
    "   - `cond1 = ds.air > 275`: Selects all grid points where the air temperature exceeds 275 K.  \n",
    "   - `cond2 = ds.lat < 50`: Limits the selection to latitudes below 50°N.  \n",
    "   - `cond3 = ds.lon < 280`: Further restricts the selection to longitudes below 280°E (or equivalent in the dataset's coordinate system).  \n",
    "\n",
    "2. **Apply Combined Conditions**  \n",
    "   - Combine the conditions using the logical AND operator `&`:\n",
    "   ```python\n",
    "   total_conditions = cond1 & cond2 & cond3\n"
   ]
  },
  {
   "cell_type": "code",
   "execution_count": null,
   "id": "35e50f9f-60f1-454e-bd85-6f5a4c8e24ea",
   "metadata": {},
   "outputs": [],
   "source": [
    "\n",
    "cond1 = ds.air>275\n",
    "cond2 = ds.lat<50\n",
    "\n",
    "\n",
    "ds.air.where((cond1) & (cond2)).isel(time=-1).plot()\n",
    "plt.plot([190, 330],[50, 50], ls=':', color='red')\n",
    "\n",
    "# Add yet another one! \n",
    "cond3 = ds.lon<280\n",
    "plt.figure()\n",
    "total_conditions = (cond1) & (cond2) & (cond3)\n",
    "\n",
    "ds.air.where(total_conditions).isel(time=-1).plot()\n",
    "plt.plot([280, 280],[15, 80], ls=':', color='red')\n",
    "plt.plot([190, 330],[50, 50], ls=':', color='red')\n"
   ]
  }
 ],
 "metadata": {
  "kernelspec": {
   "display_name": "Python 3 (ipykernel)",
   "language": "python",
   "name": "python3"
  },
  "language_info": {
   "codemirror_mode": {
    "name": "ipython",
    "version": 3
   },
   "file_extension": ".py",
   "mimetype": "text/x-python",
   "name": "python",
   "nbconvert_exporter": "python",
   "pygments_lexer": "ipython3",
   "version": "3.13.2"
  }
 },
 "nbformat": 4,
 "nbformat_minor": 5
}
