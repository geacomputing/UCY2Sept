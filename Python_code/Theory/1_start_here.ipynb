{
 "cells": [
  {
   "cell_type": "markdown",
   "id": "30c68d1d",
   "metadata": {
    "id": "30c68d1d"
   },
   "source": [
    "[![Open In Colab](https://colab.research.google.com/assets/colab-badge.svg)](https://colab.research.google.com/github/geacomputing/UCY2Sept/blob/main/Python/jupyterNotebooks/start_here.ipynb)"
   ]
  },
  {
   "cell_type": "markdown",
   "id": "468bb77c",
   "metadata": {
    "id": "468bb77c"
   },
   "source": [
    "# 🛰️ UCY2Sept: Getting Started on Colab\n",
    "\n",
    "Welcome to the **UCY2Sept** project running on Google Colab.\n",
    "\n",
    "This notebook will:\n",
    "- Clone the entire GitHub repository\n",
    "- Set up the environment\n",
    "- Provide quick links and tips to navigate the repo\n"
   ]
  },
  {
   "cell_type": "code",
   "execution_count": null,
   "id": "rkPkfzPYgBML",
   "metadata": {
    "id": "rkPkfzPYgBML"
   },
   "outputs": [],
   "source": [
    "import sys\n",
    "import os\n",
    "\n",
    "\n",
    "# Python version\n",
    "print(f\"Python version: {sys.version}\")\n",
    "\n",
    "\n"
   ]
  },
  {
   "cell_type": "markdown",
   "id": "45c77118",
   "metadata": {
    "id": "45c77118"
   },
   "source": [
    "## 🔁 Step 1: Clone the Repository"
   ]
  },
  {
   "cell_type": "code",
   "execution_count": null,
   "id": "44f71ef4",
   "metadata": {
    "id": "44f71ef4"
   },
   "outputs": [],
   "source": [
    "# Remove default sample_data folder if it exists\n",
    "!rm -rf /content/sample_data\n",
    "\n",
    "\n",
    "# Install netcdf library\n",
    "!apt-get install -y netcdf-bin\n",
    "\n",
    "\n",
    "# Clone the GitHub repo (replace with your fork if needed)\n",
    "!git clone https://github.com/geacomputing/UCY2Sept.git\n",
    "\n",
    "# Move into the project folder\n",
    "%cd UCY2Sept\n",
    "\n",
    "print(\"You are now in the right folder\")\n",
    "\n",
    "print(3*\"\\n\")\n",
    "print(\"Folder Content:\")\n",
    "print(30*\"-\")\n",
    "# Optional: check folder structure\n",
    "!ls\n"
   ]
  },
  {
   "cell_type": "markdown",
   "id": "a3b06353",
   "metadata": {
    "id": "a3b06353"
   },
   "source": [
    "## 🛠️ Step 2: Add repo to Python path\n",
    "\n",
    "---\n",
    "\n"
   ]
  },
  {
   "cell_type": "code",
   "execution_count": null,
   "id": "3cb623d6",
   "metadata": {
    "id": "3cb623d6"
   },
   "outputs": [],
   "source": [
    "\n",
    "\n",
    "# Add current repo to Python path\n",
    "repo_path = os.getcwd()\n",
    "if repo_path not in sys.path:\n",
    "    sys.path.append(repo_path)\n",
    "\n",
    "print(\"Repository added to Python path.\")\n"
   ]
  },
  {
   "cell_type": "code",
   "execution_count": null,
   "id": "AO6H1vLAdamQ",
   "metadata": {
    "id": "AO6H1vLAdamQ"
   },
   "outputs": [],
   "source": [
    "# Install packages from requirements.txt (needed for this session)\n",
    "!pip install -r https://raw.githubusercontent.com/geacomputing/UCY2Sept/main/requirements.txt"
   ]
  },
  {
   "cell_type": "markdown",
   "id": "z2di3fTdKjSA",
   "metadata": {
    "id": "z2di3fTdKjSA"
   },
   "source": [
    "## 🛠️  Step 3: Verify Package Imports\\\n",
    "\n",
    "\n",
    "\n",
    "> Note: Run this step only after successfully installing all packages from **requirements.txt**.\n",
    "\n",
    "\n",
    "\n",
    "---"
   ]
  },
  {
   "cell_type": "code",
   "execution_count": null,
   "id": "hGBpZ2tTdp9k",
   "metadata": {
    "id": "hGBpZ2tTdp9k"
   },
   "outputs": [],
   "source": [
    "# List of packages to check\n",
    "packages = [\n",
    "    \"xarray\",\n",
    "    \"cartopy\",\n",
    "    \"matplotlib\",\n",
    "    \"pandas\",\n",
    "    \"cdsapi\"\n",
    "]\n",
    "\n",
    "# Compute the maximum length of package names, for aligned printing\n",
    "maxlen = max(len(pkg) for pkg in packages)\n",
    "\n",
    "# Track whether any import has failed\n",
    "import_failed = False\n",
    "\n",
    "\n",
    "print(\"\\n👉 Testing installation of required packages\\n\")\n",
    "\n",
    "# Attempt to import each package\n",
    "for pkg in packages:\n",
    "    try:\n",
    "        module = __import__(pkg)\n",
    "        version = getattr(module, '__version__', 'Version not found')\n",
    "        print(f\"✔️Successfully imported   : {pkg:<{maxlen}}   (version: {version})\")\n",
    "    except ImportError:\n",
    "        print(f\"❌ Failed to import        : {pkg:<{maxlen}}\")\n",
    "        import_failed = True\n",
    "    except Exception as e:\n",
    "        print(f\"❌ Error importing         : {pkg:<{maxlen}}   ({e})\")\n",
    "        import_failed = True\n",
    "\n",
    "# Final warning if anything failed\n",
    "if import_failed:\n",
    "    print(\"\\n[+] WARNING:\")\n",
    "    print(\"\\tAt least one package failed to import.\")\n",
    "    print('\\tHave you installed all required packages using: \"! pip install -r requirements.txt\" ?')\n",
    "    print('\\tNote the \"!\" sign — it is needed when running from Jupyter or Colab notebooks.')\n",
    "else:\n",
    "  print(\"\\n🛠️ INFO:\")\n",
    "  print(\"\\tGITHUB material and scripts downloaded.Packages installed correctly.\\n\\n✅ You are good to go.\")"
   ]
  }
 ],
 "metadata": {
  "colab": {
   "provenance": []
  },
  "kernelspec": {
   "display_name": "Python 3 (ipykernel)",
   "language": "python",
   "name": "python3"
  },
  "language_info": {
   "codemirror_mode": {
    "name": "ipython",
    "version": 3
   },
   "file_extension": ".py",
   "mimetype": "text/x-python",
   "name": "python",
   "nbconvert_exporter": "python",
   "pygments_lexer": "ipython3",
   "version": "3.13.2"
  }
 },
 "nbformat": 4,
 "nbformat_minor": 5
}
