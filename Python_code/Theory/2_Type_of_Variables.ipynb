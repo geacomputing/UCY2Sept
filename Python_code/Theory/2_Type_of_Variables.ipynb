{
 "cells": [
  {
   "cell_type": "markdown",
   "metadata": {},
   "source": [
    "# 🧑‍💻 Student Log – Variable Types in Python\n",
    "\n",
    "This example defines a **student log** using various Python variable types:\n",
    "\n",
    "- `str` → name, course title\n",
    "- `int` → age\n",
    "- `bool` → enrollment status\n",
    "- `datetime` → registration date and deadline (via `timedelta`)\n",
    "- `NoneType` → undefined graduation date\n",
    "\n",
    "The log is stored as a **dictionary (`dict`)**, and printed in **JSON-style** for readability.\n"
   ]
  },
  {
   "cell_type": "code",
   "execution_count": null,
   "metadata": {
    "id": "xKHpyC-EUcQm"
   },
   "outputs": [],
   "source": [
    "from datetime import date, timedelta, datetime\n",
    "import json #very useful \n",
    "\n",
    "# 🧑‍🎓 Student Profile Example\n",
    "\n",
    "# String: student's name\n",
    "name = \"Alice Smith\"\n",
    "\n",
    "# Integer: age\n",
    "age = 21\n",
    "\n",
    "# Boolean: is the student enrolled?\n",
    "is_enrolled = True\n",
    "\n",
    "# List: courses the student is taking\n",
    "courses = [\"Math\", \"Physics\", \"History\"]\n",
    "\n",
    "# Date: birth date\n",
    "birth_date = date(2003, 6, 15)\n",
    "formatted_birth_date = birth_date.strftime(\"%d %b %Y\")  # e.g., '15 Jun 2003'\n",
    "\n",
    "# Application date (now)\n",
    "application_date = datetime.now()\n",
    "\n",
    "# Future date: 100 days after application\n",
    "future_date = application_date + timedelta(days=100)\n",
    "formatted_future_date = future_date.strftime(\"%d %b %Y\")\n",
    "\n",
    "# NoneType: graduation date is not yet assigned\n",
    "graduation_date = None\n",
    "\n",
    "\n",
    "# Dictionary: full profile (JSON-compatible)\n",
    "student = {\n",
    "    \"name\": name,\n",
    "    \"age\": age,\n",
    "    \"enrolled\": is_enrolled,\n",
    "    \"courses\": courses,\n",
    "    \"birth_date\": formatted_birth_date,\n",
    "    \"application_date\": application_date.strftime(\"%d %b %Y\"),\n",
    "    \"application_deadline\": formatted_future_date, \n",
    "    \"graduation_date\": graduation_date\n",
    "}\n",
    "\n",
    "\n",
    "\n",
    "# 🖨️ Display full student profile (pretty JSON format)\n",
    "print(\"🎓 Student Profile (JSON-style):\")\n",
    "print(json.dumps(student, indent=2))\n",
    "\n",
    "# 🧪 Check type\n",
    "print(\"\\nType of result is\", type(student))\n"
   ]
  },
  {
   "cell_type": "markdown",
   "metadata": {
    "id": "fXw0Yry4VxKv"
   },
   "source": [
    "# 🔎 Logical Operations – Control Flow with Student Data\n",
    "\n",
    "This section demonstrates how to apply **basic logical operations** in Python using the student profile.\n",
    "\n",
    "We'll cover:\n",
    "\n",
    "- ✅ `if` statements → check enrollment, graduation, or age conditions  \n",
    "- 🔁 `while` loops → simulate countdowns or iterative status checks  \n",
    "- 🔁 `for` loops → iterate through student data (e.g., enrolled courses)\n",
    "\n",
    "These examples show how Python’s logic and flow control can be used to make decisions and automate behavior based on variable values.\n",
    "\n",
    "All operations are based on data from a `dict` (student profile).\n"
   ]
  },
  {
   "cell_type": "code",
   "execution_count": null,
   "metadata": {},
   "outputs": [],
   "source": [
    "# --------------------------------------\n",
    "# 🔍 1. IF Statement\n",
    "# --------------------------------------\n",
    "print(\"\\n📌 Logical Check (IF):\")\n",
    "\n",
    "if student[\"enrolled\"]:\n",
    "    print(f\"{student['name']} is currently enrolled.\")\n",
    "else:\n",
    "    print(f\"{student['name']} is not enrolled.\")\n",
    "\n",
    "# Check for graduation date\n",
    "if student[\"graduation_date\"] is None:\n",
    "    print(\"Graduation date is not yet assigned.\")\n",
    "else:\n",
    "    print(f\"Graduation date is: {student['graduation_date']}\")\n",
    "\n",
    "\n",
    "# --------------------------------------\n",
    "# 🔁 2. WHILE Loop\n",
    "# --------------------------------------\n",
    "print(\"\\n📌 While Loop: Countdown to deadline (every 30 days)\")\n",
    "\n",
    "# Let's simulate a countdown to deadline\n",
    "days_left = (future_date - application_date).days\n",
    "interval = 30\n",
    "while days_left > 0:\n",
    "    print(f\"{days_left} days remaining...\")\n",
    "    days_left -= interval\n",
    "\n",
    "print(\"🕒 Deadline is approaching!\")\n",
    "\n",
    "\n",
    "# --------------------------------------\n",
    "# 🔁 3. FOR Loop\n",
    "# --------------------------------------\n",
    "print(\"\\n📌 Courses Enrolled (FOR loop):\")\n",
    "\n",
    "for i, course in enumerate(student[\"courses\"], start=1):\n",
    "    print(f\"{i}. {course}\")\n"
   ]
  }
 ],
 "metadata": {
  "colab": {
   "name": "Overview of Colaboratory Features",
   "provenance": [],
   "toc_visible": true
  },
  "kernelspec": {
   "display_name": "Python 3 (ipykernel)",
   "language": "python",
   "name": "python3"
  },
  "language_info": {
   "codemirror_mode": {
    "name": "ipython",
    "version": 3
   },
   "file_extension": ".py",
   "mimetype": "text/x-python",
   "name": "python",
   "nbconvert_exporter": "python",
   "pygments_lexer": "ipython3",
   "version": "3.13.2"
  }
 },
 "nbformat": 4,
 "nbformat_minor": 4
}
