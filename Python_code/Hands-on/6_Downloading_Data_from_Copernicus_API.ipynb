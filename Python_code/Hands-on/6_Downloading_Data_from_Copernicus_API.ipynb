{
 "cells": [
  {
   "cell_type": "markdown",
   "id": "bb6eefd2-7f5e-46e9-92ec-122aed660ee0",
   "metadata": {},
   "source": [
    "[![Open in Colab](https://colab.research.google.com/assets/colab-badge.svg)](https://colab.research.google.com/github/geacomputing/UCY2Sept/blob/main/Python_code/Hands-on/6_Downloading_Data_from_Copernicus_API.ipynb)\n"
   ]
  },
  {
   "cell_type": "code",
   "execution_count": null,
   "id": "b088068d-fe5f-4334-84d3-5f71f21506ce",
   "metadata": {},
   "outputs": [],
   "source": [
    "#Install packages\n",
    "!rm -rf /content/sample_data\n",
    "\n",
    "\n",
    "# Install netcdf library\n",
    "!apt-get install -y netcdf-bin\n",
    "\n",
    "\n",
    "# Clone the GitHub repo (replace with your fork if needed)\n",
    "!git clone https://github.com/geacomputing/UCY2Sept.git\n",
    "! pip install -r ./../../requirements.txt"
   ]
  },
  {
   "cell_type": "code",
   "execution_count": null,
   "id": "667eed00-f7a3-4a68-b950-ea5dc6a804d4",
   "metadata": {},
   "outputs": [],
   "source": [
    "import cdsapi\n",
    "import xarray\n",
    "from datetime import datetime"
   ]
  },
  {
   "cell_type": "markdown",
   "id": "d86b8ee4-39f7-421e-9b07-15f1679d760b",
   "metadata": {},
   "source": [
    "## 🛠️ Exercise: Setting Up Your `.cdsapirc` File\n",
    "\n",
    "Before using the **Copernicus CDS API**, you need to authenticate using your personal API key.  \n",
    "This is done via a hidden config file called `.cdsapirc`, stored in your home directory.\n",
    "\n",
    "---\n",
    "\n",
    "### ✅ Step-by-Step Instructions\n",
    "\n",
    "1. **Register** on the [Copernicus Climate Data Store (CDS)](https://cds.climate.copernicus.eu).\n",
    "   - Create an account (if you don’t already have one).\n",
    "   - After login, go to:  \n",
    "     👉 [https://cds.climate.copernicus.eu/how-to-api)\n",
    "\n",
    "2. **Copy your credentials**, which look like this:\n",
    "\n",
    "    ```\n",
    "    url: https://cds.climate.copernicus.eu/api/v2\n",
    "    key: 123456:abcdef12-3456-7890-abcd-1234567890ab\n",
    "    ```\n",
    "\n",
    "3. **Use the Python code below** to create the `.cdsapirc` file with your credentials:\n",
    "\n",
    "    ```python\n",
    "    from pathlib import Path\n",
    "\n",
    "    # Replace these with YOUR OWN credentials from the CDS website\n",
    "    cds_url = \"https://cds.climate.copernicus.eu/api\"         # This is real\n",
    "    cds_key = \"123456:abcdef12-3456-7890-abcd-1234567890ab\"   # This is made-up\n",
    "\n",
    "    # (these are made up!) \n",
    "\n",
    "    # Build the config content\n",
    "    cdsapirc_content = f\"\"\"url: {cds_url}\n",
    "    key: {cds_key}\n",
    "    \"\"\"\n",
    "\n",
    "    # Write to ~/.cdsapirc    \n",
    "    config_path = Path.home() / \".cdsapirc\" # <-------this is where the cdsapi expects to find the file!\n",
    "    config_path.write_text(cdsapirc_content)\n",
    "\n",
    "    print(f\"✅ .cdsapirc file created at: {config_path}\")\n",
    "    ```\n",
    "\n"
   ]
  },
  {
   "cell_type": "code",
   "execution_count": null,
   "id": "412fb652-7e94-4ca1-aada-18ed45b7316d",
   "metadata": {},
   "outputs": [],
   "source": [
    "from pathlib import Path\n",
    "\n",
    "cds_url = \"https://cds.climate.copernicus.eu/api\"  \n",
    "cds_key = \"\"\n",
    "\n",
    "if not cds_key: \n",
    "    raise ValueError(\"Key is empty, before proceding you need to provide a vlid one!\")\n",
    "else:\n",
    "    try: \n",
    "        cdsapirc_content = f\"\"\"url: {cds_url}\n",
    "        key: {cds_key}\n",
    "        \"\"\"\n",
    "        \n",
    "        # Write to ~/.cdsapirc    \n",
    "        config_path = Path.home() / \".cdsapirc\" # <-------this is where the cdsapi expects to find the file!\n",
    "        config_path.write_text(cdsapirc_content)\n",
    "        \n",
    "        print(f\"✅ .cdsapirc file created at: {config_path}\")\n",
    "    except Exception as e:\n",
    "        print(f\"❌ Failed to write .cdsapirc file: {e}\")\n",
    "        "
   ]
  },
  {
   "cell_type": "markdown",
   "id": "1aaf0e0b-933a-4f1c-a964-829ea07c39c6",
   "metadata": {},
   "source": [
    "## Downloading ERA5 Temperature Data from Copernicus CDS API\n",
    "\n",
    "In this section, we will demonstrate how to use the Copernicus Climate Data Store (CDS) Python API to programmatically request and download climate data.\n",
    "\n",
    "Specifically, we will download **ERA5 reanalysis data** for 2-meter temperature over Cyprus for selected times on June 1, 2022.  \n",
    "\n",
    "The example includes:  \n",
    "- Specifying the dataset and parameters  \n",
    "- Defining the geographic area (Cyprus bounding box)  \n",
    "- Setting the date and time of interest  \n",
    "- Requesting data in NetCDF format  \n",
    "- Saving the downloaded file locally\n",
    "\n",
    "Make sure you have your `.cdsapirc` file properly configured with your credentials before running this code.\n"
   ]
  },
  {
   "cell_type": "code",
   "execution_count": null,
   "id": "00aaa8b0-7214-49bb-815a-86e930708315",
   "metadata": {},
   "outputs": [],
   "source": [
    "# Initialize the CDS API client\n",
    "c = cdsapi.Client()\n",
    "\n",
    "# Define parameters for the data request\n",
    "variable = \"2m_temperature\"\n",
    "year = \"2022\"\n",
    "month = \"06\"\n",
    "day = \"01\"\n",
    "times = [\"00:00\", \"06:00\", \"12:00\", \"18:00\"]\n",
    "area = [35.7, 32.2, 34.5, 34.0]  # [North, West, South, East] bounding box for Cyprus\n",
    "\n",
    "# Create a dynamic filename\n",
    "date_str = f\"{year}{month}{day}\"\n",
    "filename = f\"era5_{variable}_cyprus_{date_str}.nc\" #add \".nc\" for netcdf file\n",
    "\n",
    "# Request data from CDS\n",
    "c.retrieve(\n",
    "    \"reanalysis-era5-single-levels\",\n",
    "    {\n",
    "        \"product_type\": \"reanalysis\",\n",
    "        \"format\": \"netcdf\",\n",
    "        \"variable\": variable,\n",
    "        \"year\": year,\n",
    "        \"month\": month,\n",
    "        \"day\": day,\n",
    "        \"time\": times,\n",
    "        \"area\": area,\n",
    "    },\n",
    "    filename\n",
    ")\n",
    "\n",
    "print(f\"Data successfully downloaded and saved as {filename}\")"
   ]
  }
 ],
 "metadata": {
  "kernelspec": {
   "display_name": "Python 3 (ipykernel)",
   "language": "python",
   "name": "python3"
  },
  "language_info": {
   "codemirror_mode": {
    "name": "ipython",
    "version": 3
   },
   "file_extension": ".py",
   "mimetype": "text/x-python",
   "name": "python",
   "nbconvert_exporter": "python",
   "pygments_lexer": "ipython3",
   "version": "3.13.2"
  }
 },
 "nbformat": 4,
 "nbformat_minor": 5
}
