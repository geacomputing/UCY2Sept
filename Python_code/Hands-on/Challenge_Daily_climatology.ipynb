{
 "cells": [
  {
   "cell_type": "markdown",
   "id": "93a5f7c5-1ce8-448a-8aa9-cc6919c2b23c",
   "metadata": {},
   "source": [
    "# Imports"
   ]
  },
  {
   "cell_type": "code",
   "execution_count": null,
   "id": "e0356dd7-4c6a-4867-8949-4c18ee13e24d",
   "metadata": {},
   "outputs": [],
   "source": [
    "!pip install xarray pandas numpy cartopy pooch matplotlib"
   ]
  },
  {
   "cell_type": "code",
   "execution_count": null,
   "id": "dfd70781-439a-4527-91cc-d4ca0e9ccd93",
   "metadata": {},
   "outputs": [],
   "source": [
    "#Import packaages: \n",
    "import numpy as np\n",
    "import xarray as xr\n",
    "import pandas as pd\n",
    "import matplotlib.pyplot as plt"
   ]
  },
  {
   "cell_type": "markdown",
   "id": "30aeda6f-a4a6-4c8e-a563-57451d9ff7df",
   "metadata": {},
   "source": [
    "# Load tutorial dataset (in.built in xarray)"
   ]
  },
  {
   "cell_type": "code",
   "execution_count": null,
   "id": "c085d24b-f641-4a6b-84de-c0df50d907fe",
   "metadata": {},
   "outputs": [],
   "source": [
    "ds = xr.tutorial.load_dataset(\"air_temperature\")"
   ]
  },
  {
   "cell_type": "markdown",
   "id": "484971dd-75da-4568-933c-663db2aa4e11",
   "metadata": {},
   "source": [
    "# Print the result\n",
    "## Similar to ncdump -h <filename.nc>"
   ]
  },
  {
   "cell_type": "code",
   "execution_count": null,
   "id": "ff6bf4ee-33b7-424d-955b-9497fdc15758",
   "metadata": {},
   "outputs": [],
   "source": [
    "print(ds)"
   ]
  },
  {
   "cell_type": "markdown",
   "id": "8377a8dc-fa3b-483a-9577-94dbf0fb0c72",
   "metadata": {},
   "source": [
    "# Define a point \n",
    "## Either point selection OR aggregation"
   ]
  },
  {
   "cell_type": "code",
   "execution_count": null,
   "id": "8462629a-7e66-4f8f-991b-c32625f7ebd1",
   "metadata": {},
   "outputs": [],
   "source": [
    "agg = True\n",
    "\n",
    "if agg:  \n",
    "    point = ds.air.mean(dim=[\"lon\",\"lat\"])\n",
    "    title_str=(\"Spatial mean over lon lat\")\n",
    "else:\n",
    "    point = ds.air.isel(lon=40).sel( lat=70, method=\"nearest\") #index + label selection. Latter needs method\n",
    "    "
   ]
  },
  {
   "cell_type": "markdown",
   "id": "1e8f5d96-50a3-48df-a8e7-5c9f10fe5150",
   "metadata": {},
   "source": [
    "# Prepare the figure"
   ]
  },
  {
   "cell_type": "code",
   "execution_count": null,
   "id": "348e60c5-50c0-4b8e-8c46-6d7c80109499",
   "metadata": {},
   "outputs": [],
   "source": [
    "fig, ax1 = plt.subplots(figsize=(12, 5))  # returns Figure and Axes\n",
    "\n",
    "\n",
    "#Actuall xarray command to plot a figure: 1 Line! \n",
    "point.groupby(\"time.dayofyear\").mean().plot(label=\"mean\", ax=ax1)\n",
    "\n",
    "\n",
    "#Annoation\n",
    "plt.legend()\n",
    "plt.grid()\n",
    "plt.xlim(0,365)\n",
    "plt.title(f\"Dailymean for dataset over {len(point)} samples\\nfrom {point.time.dt.year.min().values} to {point.time.dt.year.max().values}\")"
   ]
  },
  {
   "cell_type": "markdown",
   "id": "63b01943-a535-4e66-8ab0-57bea996f7ef",
   "metadata": {},
   "source": [
    "# Let us try something a bit more advanced\n",
    "### Create a list of aggregation methods (min, mean and max) and, using a for loop, apply each aggregation function repectively. Finally, plot all 3 curves on the same figure. \n",
    "\n",
    "### Plot should be duly annotated"
   ]
  },
  {
   "cell_type": "code",
   "execution_count": null,
   "id": "178ae444-1d0b-4d40-8a74-83b4eb8e27a6",
   "metadata": {},
   "outputs": [],
   "source": [
    "\n",
    "aggr_method = \"dayofyear\"\n",
    "filtering = True\n",
    "\n",
    "\n",
    "fig, ax = plt.subplots(figsize=(12, 5))  # returns Figure and Axes\n",
    "if filtering: \n",
    "    fig2, ax2 = plt.subplots(figsize=(12, 5))  # returns Figure and Axes\n",
    "\n",
    "for name, func in {\"max\": np.max, \"mean\": np.mean, \"min\": np.min}.items(): \n",
    "   clim = point.groupby(f\"time.{aggr_method}\").reduce(func)\n",
    "   clim.plot(label=f\"{name}\", ax=ax)\n",
    "   \n",
    "    \n",
    "   if aggr_method == 'dayofyear' and filtering : \n",
    "       print(f\"\\t[+] {name} for day of the year - using rolling mean to filter data\")\n",
    "       window = 10\n",
    "       clim.rolling(dayofyear=window, center=True).mean().plot(lw=2.5, ls='-.', color='black',alpha=.5, ax=ax)\n",
    "       clim.rolling(dayofyear=window, center=True).mean().plot(lw=2.5,  ax=ax2, label=f\"{name}\")\n",
    "       #print(clim.rolling(center=True, dayofyear=1).mean())\n",
    "      \n",
    "    \n",
    "# Update title once, after the loop\n",
    "if aggr_method == \"dayofyear\" and filtering:\n",
    "    title_str += f\"\\n - added rolling mean with {window}-day window\"\n",
    "    \n",
    "if agg: \n",
    "    ax.set_title(title_str)\n",
    "    ax2.set_title(f\"Only filtered climatology - rolling windows of {window} days\")\n",
    "    ax2.legend()\n",
    "#plt.xlim(0, 365)\n",
    "ax.legend()\n",
    "plt.grid()"
   ]
  },
  {
   "cell_type": "code",
   "execution_count": null,
   "id": "2b989c72-6729-4965-b418-cb067e1c4245",
   "metadata": {},
   "outputs": [],
   "source": []
  }
 ],
 "metadata": {
  "kernelspec": {
   "display_name": "Python 3 (ipykernel)",
   "language": "python",
   "name": "python3"
  },
  "language_info": {
   "codemirror_mode": {
    "name": "ipython",
    "version": 3
   },
   "file_extension": ".py",
   "mimetype": "text/x-python",
   "name": "python",
   "nbconvert_exporter": "python",
   "pygments_lexer": "ipython3",
   "version": "3.13.2"
  }
 },
 "nbformat": 4,
 "nbformat_minor": 5
}
