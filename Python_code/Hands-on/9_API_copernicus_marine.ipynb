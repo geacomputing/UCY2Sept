{
 "cells": [
  {
   "cell_type": "markdown",
   "id": "8e74f3a7-2e91-44b3-8000-5f2fea01ef78",
   "metadata": {},
   "source": [
    "### Install required Python packages\n",
    "\n",
    "This command installs the libraries needed for working with Copernicus Marine data:\n",
    "\n",
    "- **`copernicusmarine`** → the official Copernicus Marine Toolbox, used to query and download oceanographic datasets.  \n",
    "- **`xarray`** → a powerful library for working with multi-dimensional scientific data, such as NetCDF files commonly provided by Copernicus.  \n",
    "- **`matplotlib`** → the standard plotting library in Python, used here for creating maps and visualizing ocean data.\n",
    "\n",
    "```bash\n",
    "!pip install copernicusmarine xarray matplotlib\n"
   ]
  },
  {
   "cell_type": "code",
   "execution_count": null,
   "id": "6b6385bb-f764-4410-8a2b-4ee87f30f8cb",
   "metadata": {},
   "outputs": [],
   "source": [
    "! pip install copernicusmarine xarray matplotlib"
   ]
  },
  {
   "cell_type": "markdown",
   "id": "ec14296b-ca49-4dea-81c8-226dc15175f1",
   "metadata": {},
   "source": [
    "### Log in to Copernicus Marine\n",
    "\n",
    "After installing the toolbox, we need to authenticate with our Copernicus Marine account.  \n"
   ]
  },
  {
   "cell_type": "code",
   "execution_count": null,
   "id": "cdadff4a-e673-4ce8-815e-3bd8a2a61741",
   "metadata": {},
   "outputs": [],
   "source": [
    "\n",
    "import copernicusmarine\n",
    "copernicusmarine.login()"
   ]
  },
  {
   "cell_type": "markdown",
   "id": "9e5f97c4-46ef-4684-8c0e-aebfc484ec91",
   "metadata": {},
   "source": [
    "### Steps to download a spatial and temporal subset from Copernicus Marine\n",
    "\n",
    "1. **Specify the dataset**  \n",
    "   - Identify the `dataset_id` and `dataset_version` you want to download.\n",
    "\n",
    "2. **Choose the variables**  \n",
    "   - List the specific variables to retrieve (e.g., `analysed_sst`).\n",
    "\n",
    "3. **Define the spatial bounding box**  \n",
    "   - Set `minimum_longitude` and `maximum_longitude` (west-east extent).  \n",
    "   - Set `minimum_latitude` and `maximum_latitude` (south-north extent).\n",
    "\n",
    "4. **Define the time range**  \n",
    "   - Provide `start_datetime` and `end_datetime` for the period of interest.\n",
    "\n",
    "5. **Select coordinates method**  \n",
    "   - Use `coordinates_selection_method=\"strict-inside\"` to include only grid cells fully within the bounding box.\n",
    "\n",
    "6. **Set NetCDF output options**  \n",
    "   - `netcdf_compression_level` to control file size.  \n",
    "   - `disable_progress_bar` to show or hide the download progress.\n",
    "\n",
    "7. **Execute the subset request**  \n",
    "   - Call `copernicusmarine.subset()` to download the data.\n"
   ]
  },
  {
   "cell_type": "code",
   "execution_count": null,
   "id": "fafe841d-7a0f-4187-97cc-e4947a49d365",
   "metadata": {},
   "outputs": [],
   "source": [
    "my_custom_name = \"cmems_obs-sst_med_phy-sst_nrt_diurnal-oi-0.0625deg.nc\"\n",
    "\n",
    "\n",
    "copernicusmarine.subset(\n",
    "  dataset_id=\"cmems_obs-sst_med_phy-sst_nrt_diurnal-oi-0.0625deg_PT1H-m\",\n",
    "  dataset_version=\"202105\",\n",
    "  variables=[\"analysed_sst\"],\n",
    "  minimum_longitude=30.024455559771997,\n",
    "  maximum_longitude=35.41467295107635,\n",
    "  minimum_latitude=30.57475538668425,\n",
    "  maximum_latitude=37.998124951901644,\n",
    "  start_datetime=\"2022-08-15T12:00:00\",\n",
    "  end_datetime=\"2025-08-15T16:00:00\",\n",
    "  coordinates_selection_method=\"strict-inside\",\n",
    "  netcdf_compression_level=1,\n",
    "  disable_progress_bar=False,\n",
    "    output_filename=my_custom_name   # <-- specify output file here\n",
    ")"
   ]
  },
  {
   "cell_type": "code",
   "execution_count": null,
   "id": "7e771ff4-6f17-40fa-927e-98b6c588c816",
   "metadata": {},
   "outputs": [],
   "source": [
    "import xarray as xr\n",
    "\n",
    "ds = xr.open_dataset(my_custom_name)\n",
    "\n",
    "print(ds)"
   ]
  },
  {
   "cell_type": "code",
   "execution_count": null,
   "id": "903b6c53-aed8-4254-8c5c-d94f1b89a302",
   "metadata": {},
   "outputs": [],
   "source": [
    "(ds.analysed_sst-273.15).mean(dim=['latitude','longitude']).groupby(\"time.dayofyear\").mean().plot()"
   ]
  }
 ],
 "metadata": {
  "kernelspec": {
   "display_name": "Python 3 (ipykernel)",
   "language": "python",
   "name": "python3"
  },
  "language_info": {
   "codemirror_mode": {
    "name": "ipython",
    "version": 3
   },
   "file_extension": ".py",
   "mimetype": "text/x-python",
   "name": "python",
   "nbconvert_exporter": "python",
   "pygments_lexer": "ipython3",
   "version": "3.13.2"
  }
 },
 "nbformat": 4,
 "nbformat_minor": 5
}
